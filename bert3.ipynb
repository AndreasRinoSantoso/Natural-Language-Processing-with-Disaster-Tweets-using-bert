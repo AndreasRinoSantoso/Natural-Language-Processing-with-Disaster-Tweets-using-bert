{
 "cells": [
  {
   "cell_type": "code",
   "execution_count": 1,
   "id": "4bfe2069-049a-41d4-93b2-819dc467254a",
   "metadata": {},
   "outputs": [],
   "source": [
    "import pandas as pd\n",
    "import numpy as np\n",
    "import tensorflow as tf\n",
    "import tensorflow_hub as hub\n",
    "import tensorflow_text as text"
   ]
  },
  {
   "cell_type": "code",
   "execution_count": 2,
   "id": "b211f801-634c-4940-a464-6702c07da28a",
   "metadata": {},
   "outputs": [],
   "source": [
    "bert_preprocess = hub.KerasLayer(\"https://tfhub.dev/tensorflow/bert_en_uncased_preprocess/3\")\n",
    "bert_encoder = hub.KerasLayer(\"https://tfhub.dev/tensorflow/bert_en_uncased_L-12_H-768_A-12/4\")"
   ]
  },
  {
   "cell_type": "code",
   "execution_count": 3,
   "id": "0bc8fe69-de89-4b5f-b118-16bca1e48567",
   "metadata": {},
   "outputs": [],
   "source": [
    "train =pd.read_csv('train.csv')\n",
    "test =pd.read_csv('test.csv')\n",
    "gabung = pd.concat([train, test], ignore_index=True)"
   ]
  },
  {
   "cell_type": "code",
   "execution_count": 4,
   "id": "2859517d-28c1-44c0-9707-0e91c0976379",
   "metadata": {},
   "outputs": [],
   "source": [
    "gabung1=gabung[['text','target']]\n",
    "df_balanced =gabung1"
   ]
  },
  {
   "cell_type": "code",
   "execution_count": 5,
   "id": "554d30cd-9bc5-4e27-8541-bbf95cd42ae2",
   "metadata": {},
   "outputs": [],
   "source": [
    "train = df_balanced.iloc[0:7613]\n",
    "test = df_balanced.iloc[7613:10876]"
   ]
  },
  {
   "cell_type": "code",
   "execution_count": 16,
   "id": "ed7e1569-cee6-4b46-a4ce-688ccb3f33b9",
   "metadata": {},
   "outputs": [],
   "source": [
    "bert_preprocess = hub.KerasLayer(\"https://tfhub.dev/tensorflow/bert_en_uncased_preprocess/3\")\n",
    "bert_encoder = hub.KerasLayer(\"https://tfhub.dev/tensorflow/bert_en_uncased_L-12_H-768_A-12/4\")"
   ]
  },
  {
   "cell_type": "code",
   "execution_count": 18,
   "id": "6efb2be9-fb54-4f15-83b8-a05e876da65e",
   "metadata": {},
   "outputs": [
    {
     "name": "stderr",
     "output_type": "stream",
     "text": [
      "Preprocessing and Encoding: 100%|████████████████████████████████████████████████████| 238/238 [16:02<00:00,  4.05s/it]\n"
     ]
    }
   ],
   "source": [
    "\n",
    "\n",
    "# Fungsi preprocessing dan encoding tetap sama\n",
    "def preprocess_and_encode(texts, batch_size=32):\n",
    "    encoded_texts = []\n",
    "    for i in tqdm(range(0, len(texts), batch_size), desc=\"Preprocessing and Encoding\"):\n",
    "        batch_texts = texts[i:i+batch_size]\n",
    "        preprocessed_text = bert_preprocess(batch_texts)\n",
    "        encoded_text = bert_encoder(preprocessed_text)\n",
    "        encoded_texts.append(encoded_text['pooled_output'].numpy())\n",
    "    return np.concatenate(encoded_texts)\n",
    "\n",
    "# Memproses teks dari dataset\n",
    "texts = train['text'].tolist()\n",
    "encoded_texts = preprocess_and_encode(texts)\n"
   ]
  },
  {
   "cell_type": "code",
   "execution_count": 19,
   "id": "d666a1fa-160a-4d0d-a849-1a0e1bfef19e",
   "metadata": {},
   "outputs": [],
   "source": [
    "pooled_output = np.array(encoded_texts)"
   ]
  },
  {
   "cell_type": "code",
   "execution_count": 20,
   "id": "d6189ff0-8488-4271-83e3-472900834fa2",
   "metadata": {},
   "outputs": [
    {
     "data": {
      "text/plain": [
       "(7613, 768)"
      ]
     },
     "execution_count": 20,
     "metadata": {},
     "output_type": "execute_result"
    }
   ],
   "source": [
    "pooled_output.shape"
   ]
  },
  {
   "cell_type": "code",
   "execution_count": 24,
   "id": "169c5069-b645-49e1-9045-f5ca3824a567",
   "metadata": {},
   "outputs": [
    {
     "data": {
      "text/plain": [
       "0       1.0\n",
       "1       1.0\n",
       "2       1.0\n",
       "3       1.0\n",
       "4       1.0\n",
       "       ... \n",
       "7608    1.0\n",
       "7609    1.0\n",
       "7610    1.0\n",
       "7611    1.0\n",
       "7612    1.0\n",
       "Name: target, Length: 7613, dtype: float64"
      ]
     },
     "execution_count": 24,
     "metadata": {},
     "output_type": "execute_result"
    }
   ],
   "source": [
    "y=train[\"target\"]\n"
   ]
  },
  {
   "cell_type": "code",
   "execution_count": 21,
   "id": "95461ac8-3cae-4eee-b8f4-37854abcb2b1",
   "metadata": {},
   "outputs": [],
   "source": [
    "np.save('pooled_output_all.npy', pooled_output)"
   ]
  },
  {
   "cell_type": "code",
   "execution_count": 26,
   "id": "debdd784-44e8-4e69-9add-5ce9110e882b",
   "metadata": {},
   "outputs": [],
   "source": [
    "from sklearn.model_selection import train_test_split\n",
    "X_train, X_temp, y_train, y_temp = train_test_split(pooled_output, y, test_size=0.3, random_state=42)\n",
    "X_val, X_test, y_val, y_test = train_test_split(X_temp, y_temp, test_size=1/3, random_state=42)\n",
    "\n",
    "# Membuat dataset TensorFlow untuk set pelatihan\n",
    "train_dataset = tf.data.Dataset.from_tensor_slices((X_train, y_train))\n",
    "train_dataset = train_dataset.shuffle(buffer_size=1024).batch(10).prefetch(tf.data.AUTOTUNE)\n",
    "\n",
    "# Membuat dataset TensorFlow untuk set validasi\n",
    "val_dataset = tf.data.Dataset.from_tensor_slices((X_val, y_val))\n",
    "val_dataset = val_dataset.batch(10).prefetch(tf.data.AUTOTUNE)\n",
    "\n",
    "\n",
    "# Membuat dataset TensorFlow untuk set pengujian\n",
    "test_dataset = tf.data.Dataset.from_tensor_slices((X_test, y_test))\n",
    "test_dataset = test_dataset.batch(10).prefetch(tf.data.AUTOTUNE)"
   ]
  },
  {
   "cell_type": "code",
   "execution_count": null,
   "id": "0dfbddf3-c68d-4388-876e-60f5b3b7c496",
   "metadata": {},
   "outputs": [],
   "source": []
  },
  {
   "cell_type": "code",
   "execution_count": null,
   "id": "cb310f22-2a66-4213-a2ce-93e4f3e31d18",
   "metadata": {},
   "outputs": [],
   "source": []
  },
  {
   "cell_type": "code",
   "execution_count": 29,
   "id": "7cedc2b7-aab6-423d-af3f-fe0e4662308c",
   "metadata": {},
   "outputs": [
    {
     "name": "stdout",
     "output_type": "stream",
     "text": [
      "Epoch 1/50\n",
      "533/533 [==============================] - 1s 2ms/step - loss: 0.6845 - accuracy: 0.5577 - val_loss: 0.6260 - val_accuracy: 0.6735\n",
      "Epoch 2/50\n",
      "533/533 [==============================] - 1s 2ms/step - loss: 0.6396 - accuracy: 0.6271 - val_loss: 0.6116 - val_accuracy: 0.6715\n",
      "Epoch 3/50\n",
      "533/533 [==============================] - 1s 2ms/step - loss: 0.6252 - accuracy: 0.6523 - val_loss: 0.5930 - val_accuracy: 0.6932\n",
      "Epoch 4/50\n",
      "533/533 [==============================] - 1s 2ms/step - loss: 0.6170 - accuracy: 0.6709 - val_loss: 0.5862 - val_accuracy: 0.7070\n",
      "Epoch 5/50\n",
      "533/533 [==============================] - 1s 2ms/step - loss: 0.6038 - accuracy: 0.6748 - val_loss: 0.5814 - val_accuracy: 0.7109\n",
      "Epoch 6/50\n",
      "533/533 [==============================] - 1s 2ms/step - loss: 0.6044 - accuracy: 0.6825 - val_loss: 0.5762 - val_accuracy: 0.7240\n",
      "Epoch 7/50\n",
      "533/533 [==============================] - 1s 2ms/step - loss: 0.5960 - accuracy: 0.6921 - val_loss: 0.5730 - val_accuracy: 0.7240\n",
      "Epoch 8/50\n",
      "533/533 [==============================] - 1s 2ms/step - loss: 0.5916 - accuracy: 0.6964 - val_loss: 0.5723 - val_accuracy: 0.7234\n",
      "Epoch 9/50\n",
      "533/533 [==============================] - 1s 2ms/step - loss: 0.5847 - accuracy: 0.7076 - val_loss: 0.5664 - val_accuracy: 0.7162\n",
      "Epoch 10/50\n",
      "533/533 [==============================] - 1s 2ms/step - loss: 0.5799 - accuracy: 0.7103 - val_loss: 0.5619 - val_accuracy: 0.7332\n",
      "Epoch 11/50\n",
      "533/533 [==============================] - 1s 2ms/step - loss: 0.5803 - accuracy: 0.7097 - val_loss: 0.5567 - val_accuracy: 0.7398\n",
      "Epoch 12/50\n",
      "533/533 [==============================] - 1s 2ms/step - loss: 0.5728 - accuracy: 0.7161 - val_loss: 0.5533 - val_accuracy: 0.7405\n",
      "Epoch 13/50\n",
      "533/533 [==============================] - 1s 2ms/step - loss: 0.5691 - accuracy: 0.7168 - val_loss: 0.5516 - val_accuracy: 0.7424\n",
      "Epoch 14/50\n",
      "533/533 [==============================] - 1s 2ms/step - loss: 0.5669 - accuracy: 0.7191 - val_loss: 0.5465 - val_accuracy: 0.7392\n",
      "Epoch 15/50\n",
      "533/533 [==============================] - 1s 2ms/step - loss: 0.5632 - accuracy: 0.7266 - val_loss: 0.5462 - val_accuracy: 0.7484\n",
      "Epoch 16/50\n",
      "533/533 [==============================] - 1s 2ms/step - loss: 0.5634 - accuracy: 0.7234 - val_loss: 0.5419 - val_accuracy: 0.7444\n",
      "Epoch 17/50\n",
      "533/533 [==============================] - 1s 2ms/step - loss: 0.5595 - accuracy: 0.7266 - val_loss: 0.5465 - val_accuracy: 0.7378\n",
      "Epoch 18/50\n",
      "533/533 [==============================] - 1s 2ms/step - loss: 0.5555 - accuracy: 0.7272 - val_loss: 0.5439 - val_accuracy: 0.7484\n",
      "Epoch 19/50\n",
      "533/533 [==============================] - 1s 2ms/step - loss: 0.5577 - accuracy: 0.7257 - val_loss: 0.5354 - val_accuracy: 0.7523\n",
      "Epoch 20/50\n",
      "533/533 [==============================] - 1s 2ms/step - loss: 0.5533 - accuracy: 0.7332 - val_loss: 0.5306 - val_accuracy: 0.7523\n",
      "Epoch 21/50\n",
      "533/533 [==============================] - 1s 2ms/step - loss: 0.5472 - accuracy: 0.7345 - val_loss: 0.5280 - val_accuracy: 0.7549\n",
      "Epoch 22/50\n",
      "533/533 [==============================] - 1s 2ms/step - loss: 0.5456 - accuracy: 0.7350 - val_loss: 0.5256 - val_accuracy: 0.7549\n",
      "Epoch 23/50\n",
      "533/533 [==============================] - 1s 2ms/step - loss: 0.5462 - accuracy: 0.7399 - val_loss: 0.5340 - val_accuracy: 0.7497\n",
      "Epoch 24/50\n",
      "533/533 [==============================] - 1s 2ms/step - loss: 0.5433 - accuracy: 0.7378 - val_loss: 0.5300 - val_accuracy: 0.7608\n",
      "Epoch 25/50\n",
      "533/533 [==============================] - 1s 2ms/step - loss: 0.5385 - accuracy: 0.7427 - val_loss: 0.5195 - val_accuracy: 0.7589\n",
      "Epoch 26/50\n",
      "533/533 [==============================] - 1s 2ms/step - loss: 0.5386 - accuracy: 0.7403 - val_loss: 0.5150 - val_accuracy: 0.7589\n",
      "Epoch 27/50\n",
      "533/533 [==============================] - 1s 2ms/step - loss: 0.5354 - accuracy: 0.7425 - val_loss: 0.5138 - val_accuracy: 0.7687\n",
      "Epoch 28/50\n",
      "533/533 [==============================] - 1s 2ms/step - loss: 0.5284 - accuracy: 0.7452 - val_loss: 0.5135 - val_accuracy: 0.7720\n",
      "Epoch 29/50\n",
      "533/533 [==============================] - 1s 2ms/step - loss: 0.5264 - accuracy: 0.7459 - val_loss: 0.5095 - val_accuracy: 0.7661\n",
      "Epoch 30/50\n",
      "533/533 [==============================] - 1s 2ms/step - loss: 0.5253 - accuracy: 0.7474 - val_loss: 0.5071 - val_accuracy: 0.7654\n",
      "Epoch 31/50\n",
      "533/533 [==============================] - 1s 2ms/step - loss: 0.5274 - accuracy: 0.7461 - val_loss: 0.5104 - val_accuracy: 0.7720\n",
      "Epoch 32/50\n",
      "533/533 [==============================] - 1s 2ms/step - loss: 0.5232 - accuracy: 0.7517 - val_loss: 0.5040 - val_accuracy: 0.7707\n",
      "Epoch 33/50\n",
      "533/533 [==============================] - 1s 2ms/step - loss: 0.5178 - accuracy: 0.7594 - val_loss: 0.5015 - val_accuracy: 0.7792\n",
      "Epoch 34/50\n",
      "533/533 [==============================] - 1s 2ms/step - loss: 0.5189 - accuracy: 0.7540 - val_loss: 0.5048 - val_accuracy: 0.7654\n",
      "Epoch 35/50\n",
      "533/533 [==============================] - 1s 2ms/step - loss: 0.5151 - accuracy: 0.7561 - val_loss: 0.5133 - val_accuracy: 0.7543\n",
      "Epoch 36/50\n",
      "533/533 [==============================] - 1s 2ms/step - loss: 0.5157 - accuracy: 0.7639 - val_loss: 0.4995 - val_accuracy: 0.7806\n",
      "Epoch 37/50\n",
      "533/533 [==============================] - 1s 2ms/step - loss: 0.5127 - accuracy: 0.7652 - val_loss: 0.4989 - val_accuracy: 0.7832\n",
      "Epoch 38/50\n",
      "533/533 [==============================] - 1s 2ms/step - loss: 0.5108 - accuracy: 0.7591 - val_loss: 0.4936 - val_accuracy: 0.7825\n",
      "Epoch 39/50\n",
      "533/533 [==============================] - 1s 2ms/step - loss: 0.5120 - accuracy: 0.7583 - val_loss: 0.4912 - val_accuracy: 0.7819\n",
      "Epoch 40/50\n",
      "533/533 [==============================] - 1s 2ms/step - loss: 0.5071 - accuracy: 0.7645 - val_loss: 0.4914 - val_accuracy: 0.7806\n",
      "Epoch 41/50\n",
      "533/533 [==============================] - 1s 2ms/step - loss: 0.5033 - accuracy: 0.7673 - val_loss: 0.4890 - val_accuracy: 0.7845\n",
      "Epoch 42/50\n",
      "533/533 [==============================] - 1s 2ms/step - loss: 0.5032 - accuracy: 0.7626 - val_loss: 0.4895 - val_accuracy: 0.7858\n",
      "Epoch 43/50\n",
      "533/533 [==============================] - 1s 2ms/step - loss: 0.5020 - accuracy: 0.7675 - val_loss: 0.4876 - val_accuracy: 0.7845\n",
      "Epoch 44/50\n",
      "533/533 [==============================] - 1s 2ms/step - loss: 0.5002 - accuracy: 0.7654 - val_loss: 0.4883 - val_accuracy: 0.7891\n",
      "Epoch 45/50\n",
      "533/533 [==============================] - 1s 2ms/step - loss: 0.4978 - accuracy: 0.7681 - val_loss: 0.4861 - val_accuracy: 0.7884\n",
      "Epoch 46/50\n",
      "533/533 [==============================] - 1s 2ms/step - loss: 0.4974 - accuracy: 0.7709 - val_loss: 0.4853 - val_accuracy: 0.7924\n",
      "Epoch 47/50\n",
      "533/533 [==============================] - 1s 2ms/step - loss: 0.4968 - accuracy: 0.7722 - val_loss: 0.4838 - val_accuracy: 0.7937\n",
      "Epoch 48/50\n",
      "533/533 [==============================] - 1s 2ms/step - loss: 0.4941 - accuracy: 0.7754 - val_loss: 0.4809 - val_accuracy: 0.7858\n",
      "Epoch 49/50\n",
      "533/533 [==============================] - 1s 2ms/step - loss: 0.4918 - accuracy: 0.7743 - val_loss: 0.4801 - val_accuracy: 0.7937\n",
      "Epoch 50/50\n",
      "533/533 [==============================] - 1s 2ms/step - loss: 0.4890 - accuracy: 0.7737 - val_loss: 0.4812 - val_accuracy: 0.7924\n"
     ]
    }
   ],
   "source": [
    "def create_model():\n",
    "    \n",
    "    input_layer = tf.keras.Input(shape=(768,), dtype=tf.float32, name='pooled_output')\n",
    "\n",
    "    # Hidden layers\n",
    "    dense1 = tf.keras.layers.Dense(128, activation='relu')(input_layer)\n",
    "    dropout1 = tf.keras.layers.Dropout(0.3)(dense1)\n",
    "    dense2 = tf.keras.layers.Dense(64, activation='relu')(dropout1)\n",
    "    dropout2 = tf.keras.layers.Dropout(0.3)(dense2)\n",
    "    \n",
    "    # Output layer\n",
    "    output = tf.keras.layers.Dense(1, activation='sigmoid')(dropout2)\n",
    "    \n",
    "    model = tf.keras.Model(inputs=input_layer, outputs=output)\n",
    "    return model\n",
    "# Membuat model\n",
    "model = create_model()\n",
    "\n",
    "# Kompilasi model\n",
    "model.compile(optimizer=tf.keras.optimizers.Adam(learning_rate=2e-5),\n",
    "              loss='binary_crossentropy',\n",
    "              metrics=['accuracy'])\n",
    "\n",
    "# Latih model\n",
    "#history = model.fit(dataset, epochs=35, verbose=1)\n",
    "history = model.fit(X_train, y_train, \n",
    "                    validation_data=(X_val, y_val),\n",
    "                    epochs=50, \n",
    "                    batch_size=10,\n",
    "                    verbose=1)"
   ]
  },
  {
   "cell_type": "code",
   "execution_count": 34,
   "id": "7eb49bb1-1982-48bd-8f92-cd000439548a",
   "metadata": {},
   "outputs": [],
   "source": [
    "# Menyimpan model\n",
    "model.save('nama_model.h5')\n"
   ]
  },
  {
   "cell_type": "code",
   "execution_count": 30,
   "id": "f527268a-6d4d-4baa-97c7-97d7501492b2",
   "metadata": {},
   "outputs": [
    {
     "name": "stdout",
     "output_type": "stream",
     "text": [
      "Test loss: 0.483\n",
      "Test accuracy: 0.783\n"
     ]
    }
   ],
   "source": [
    "\n",
    "\n",
    "loss, accuracy = model.evaluate(test_dataset, verbose=0)\n",
    "\n",
    "# Print the test loss and accuracy\n",
    "print(f'Test loss: {loss:.3f}')\n",
    "print(f'Test accuracy: {accuracy:.3f}')"
   ]
  },
  {
   "cell_type": "code",
   "execution_count": 31,
   "id": "af6697b3-2162-4900-8fe1-b11daed63949",
   "metadata": {},
   "outputs": [],
   "source": [
    "bert_preprocess = hub.KerasLayer(\"https://tfhub.dev/tensorflow/bert_en_uncased_preprocess/3\")\n",
    "bert_encoder = hub.KerasLayer(\"https://tfhub.dev/tensorflow/bert_en_uncased_L-12_H-768_A-12/4\")"
   ]
  },
  {
   "cell_type": "code",
   "execution_count": 35,
   "id": "595874f2-6602-433f-a6a8-4a871c12ce55",
   "metadata": {},
   "outputs": [
    {
     "name": "stderr",
     "output_type": "stream",
     "text": [
      "Preprocessing and Encoding: 100%|████████████████████████████████████████████████████| 102/102 [08:22<00:00,  4.93s/it]\n"
     ]
    }
   ],
   "source": [
    "\n",
    "# Fungsi preprocessing dan encoding tetap sama\n",
    "def preprocess_and_encode(texts, batch_size=32):\n",
    "    encoded_texts = []\n",
    "    for i in tqdm(range(0, len(texts), batch_size), desc=\"Preprocessing and Encoding\"):\n",
    "        batch_texts = texts[i:i+batch_size]\n",
    "        preprocessed_text = bert_preprocess(batch_texts)\n",
    "        encoded_text = bert_encoder(preprocessed_text)\n",
    "        encoded_texts.append(encoded_text['pooled_output'].numpy())\n",
    "    return np.concatenate(encoded_texts)\n",
    "\n",
    "# Memproses teks dari dataset\n",
    "texts = test['text'].tolist()\n",
    "encoded_texts = preprocess_and_encode(texts)\n"
   ]
  },
  {
   "cell_type": "code",
   "execution_count": 36,
   "id": "51d2e995-5a1b-4d82-8cc5-a07c4bc983f1",
   "metadata": {},
   "outputs": [],
   "source": [
    "pooled_output = np.array(encoded_texts)"
   ]
  },
  {
   "cell_type": "code",
   "execution_count": 41,
   "id": "e63fbd15-0f81-441b-998f-c339b1a12c0b",
   "metadata": {
    "scrolled": true
   },
   "outputs": [
    {
     "data": {
      "text/plain": [
       "(3263, 768)"
      ]
     },
     "execution_count": 41,
     "metadata": {},
     "output_type": "execute_result"
    }
   ],
   "source": [
    "pooled_output.shape"
   ]
  },
  {
   "cell_type": "code",
   "execution_count": 38,
   "id": "9c94220c-14f2-4873-afe6-b90605df38cb",
   "metadata": {},
   "outputs": [],
   "source": [
    "np.save('test.npy', pooled_output)"
   ]
  },
  {
   "cell_type": "code",
   "execution_count": 43,
   "id": "1c19a0ba-e154-40b8-9b0e-d0c8a5d7af30",
   "metadata": {},
   "outputs": [],
   "source": [
    "prediction_dataset = tf.data.Dataset.from_tensor_slices(pooled_output).batch(10)"
   ]
  },
  {
   "cell_type": "code",
   "execution_count": 44,
   "id": "1693e65c-dae7-4a52-b532-0cdfae8a0159",
   "metadata": {},
   "outputs": [
    {
     "name": "stdout",
     "output_type": "stream",
     "text": [
      "327/327 [==============================] - 0s 672us/step\n"
     ]
    }
   ],
   "source": [
    "predictions = model.predict(prediction_dataset)"
   ]
  },
  {
   "cell_type": "code",
   "execution_count": 45,
   "id": "26071eb9-cc10-4dc6-8f30-c69c818efa98",
   "metadata": {},
   "outputs": [
    {
     "data": {
      "text/plain": [
       "array([[0.5458827 ],\n",
       "       [0.43943316],\n",
       "       [0.5966541 ],\n",
       "       ...,\n",
       "       [0.8780239 ],\n",
       "       [0.4595592 ],\n",
       "       [0.66802037]], dtype=float32)"
      ]
     },
     "execution_count": 45,
     "metadata": {},
     "output_type": "execute_result"
    }
   ],
   "source": [
    "predictions "
   ]
  },
  {
   "cell_type": "code",
   "execution_count": 46,
   "id": "57a65af7-d431-4e02-8151-ce220721ef23",
   "metadata": {},
   "outputs": [
    {
     "name": "stdout",
     "output_type": "stream",
     "text": [
      "Prediksi biner (0 atau 1): [[1]\n",
      " [0]\n",
      " [1]\n",
      " ...\n",
      " [1]\n",
      " [0]\n",
      " [1]]\n"
     ]
    }
   ],
   "source": [
    "# Konversi hasil prediksi probabilitas ke dalam prediksi biner (0 atau 1)\n",
    "binary_predictions = (predictions > 0.5).astype(int)\n",
    "\n",
    "# Menampilkan hasil prediksi biner\n",
    "print(\"Prediksi biner (0 atau 1):\", binary_predictions)\n"
   ]
  },
  {
   "cell_type": "code",
   "execution_count": 47,
   "id": "b60cd695-b1df-4c26-85a9-39a1ada57e7a",
   "metadata": {},
   "outputs": [
    {
     "data": {
      "text/plain": [
       "(3263, 1)"
      ]
     },
     "execution_count": 47,
     "metadata": {},
     "output_type": "execute_result"
    }
   ],
   "source": [
    "binary_predictions.shape\n"
   ]
  },
  {
   "cell_type": "code",
   "execution_count": 60,
   "id": "6de57335-2de1-4f29-8788-f9fd950a0577",
   "metadata": {},
   "outputs": [
    {
     "name": "stdout",
     "output_type": "stream",
     "text": [
      "      target\n",
      "0          1\n",
      "1          0\n",
      "2          1\n",
      "3          1\n",
      "4          1\n",
      "...      ...\n",
      "3258       0\n",
      "3259       1\n",
      "3260       1\n",
      "3261       0\n",
      "3262       1\n",
      "\n",
      "[3263 rows x 1 columns]\n"
     ]
    }
   ],
   "source": [
    "\n",
    "\n",
    "# Ubah array ke DataFrame\n",
    "df = pd.DataFrame(binary_predictions, columns=['target'])\n",
    "\n",
    "print(df)\n"
   ]
  },
  {
   "cell_type": "code",
   "execution_count": 66,
   "id": "b9939d79-1351-4ba2-9d13-c777b6933e08",
   "metadata": {},
   "outputs": [
    {
     "data": {
      "text/html": [
       "<div>\n",
       "<style scoped>\n",
       "    .dataframe tbody tr th:only-of-type {\n",
       "        vertical-align: middle;\n",
       "    }\n",
       "\n",
       "    .dataframe tbody tr th {\n",
       "        vertical-align: top;\n",
       "    }\n",
       "\n",
       "    .dataframe thead th {\n",
       "        text-align: right;\n",
       "    }\n",
       "</style>\n",
       "<table border=\"1\" class=\"dataframe\">\n",
       "  <thead>\n",
       "    <tr style=\"text-align: right;\">\n",
       "      <th></th>\n",
       "      <th>id</th>\n",
       "      <th>target</th>\n",
       "    </tr>\n",
       "  </thead>\n",
       "  <tbody>\n",
       "    <tr>\n",
       "      <th>0</th>\n",
       "      <td>0</td>\n",
       "      <td>1</td>\n",
       "    </tr>\n",
       "    <tr>\n",
       "      <th>1</th>\n",
       "      <td>2</td>\n",
       "      <td>1</td>\n",
       "    </tr>\n",
       "    <tr>\n",
       "      <th>2</th>\n",
       "      <td>3</td>\n",
       "      <td>1</td>\n",
       "    </tr>\n",
       "    <tr>\n",
       "      <th>3</th>\n",
       "      <td>9</td>\n",
       "      <td>1</td>\n",
       "    </tr>\n",
       "    <tr>\n",
       "      <th>4</th>\n",
       "      <td>11</td>\n",
       "      <td>1</td>\n",
       "    </tr>\n",
       "    <tr>\n",
       "      <th>...</th>\n",
       "      <td>...</td>\n",
       "      <td>...</td>\n",
       "    </tr>\n",
       "    <tr>\n",
       "      <th>3258</th>\n",
       "      <td>10861</td>\n",
       "      <td>1</td>\n",
       "    </tr>\n",
       "    <tr>\n",
       "      <th>3259</th>\n",
       "      <td>10865</td>\n",
       "      <td>1</td>\n",
       "    </tr>\n",
       "    <tr>\n",
       "      <th>3260</th>\n",
       "      <td>10868</td>\n",
       "      <td>1</td>\n",
       "    </tr>\n",
       "    <tr>\n",
       "      <th>3261</th>\n",
       "      <td>10874</td>\n",
       "      <td>1</td>\n",
       "    </tr>\n",
       "    <tr>\n",
       "      <th>3262</th>\n",
       "      <td>10875</td>\n",
       "      <td>1</td>\n",
       "    </tr>\n",
       "  </tbody>\n",
       "</table>\n",
       "<p>3263 rows × 2 columns</p>\n",
       "</div>"
      ],
      "text/plain": [
       "         id  target\n",
       "0         0       1\n",
       "1         2       1\n",
       "2         3       1\n",
       "3         9       1\n",
       "4        11       1\n",
       "...     ...     ...\n",
       "3258  10861       1\n",
       "3259  10865       1\n",
       "3260  10868       1\n",
       "3261  10874       1\n",
       "3262  10875       1\n",
       "\n",
       "[3263 rows x 2 columns]"
      ]
     },
     "execution_count": 66,
     "metadata": {},
     "output_type": "execute_result"
    }
   ],
   "source": [
    "submission = pd.read_csv('submission.csv')\n",
    "submission"
   ]
  },
  {
   "cell_type": "code",
   "execution_count": 67,
   "id": "ba37a4ff-842a-4f10-ab31-193713a29bbd",
   "metadata": {
    "scrolled": true
   },
   "outputs": [
    {
     "data": {
      "text/html": [
       "<div>\n",
       "<style scoped>\n",
       "    .dataframe tbody tr th:only-of-type {\n",
       "        vertical-align: middle;\n",
       "    }\n",
       "\n",
       "    .dataframe tbody tr th {\n",
       "        vertical-align: top;\n",
       "    }\n",
       "\n",
       "    .dataframe thead th {\n",
       "        text-align: right;\n",
       "    }\n",
       "</style>\n",
       "<table border=\"1\" class=\"dataframe\">\n",
       "  <thead>\n",
       "    <tr style=\"text-align: right;\">\n",
       "      <th></th>\n",
       "      <th>id</th>\n",
       "    </tr>\n",
       "  </thead>\n",
       "  <tbody>\n",
       "    <tr>\n",
       "      <th>0</th>\n",
       "      <td>0</td>\n",
       "    </tr>\n",
       "    <tr>\n",
       "      <th>1</th>\n",
       "      <td>2</td>\n",
       "    </tr>\n",
       "    <tr>\n",
       "      <th>2</th>\n",
       "      <td>3</td>\n",
       "    </tr>\n",
       "    <tr>\n",
       "      <th>3</th>\n",
       "      <td>9</td>\n",
       "    </tr>\n",
       "    <tr>\n",
       "      <th>4</th>\n",
       "      <td>11</td>\n",
       "    </tr>\n",
       "    <tr>\n",
       "      <th>...</th>\n",
       "      <td>...</td>\n",
       "    </tr>\n",
       "    <tr>\n",
       "      <th>3258</th>\n",
       "      <td>10861</td>\n",
       "    </tr>\n",
       "    <tr>\n",
       "      <th>3259</th>\n",
       "      <td>10865</td>\n",
       "    </tr>\n",
       "    <tr>\n",
       "      <th>3260</th>\n",
       "      <td>10868</td>\n",
       "    </tr>\n",
       "    <tr>\n",
       "      <th>3261</th>\n",
       "      <td>10874</td>\n",
       "    </tr>\n",
       "    <tr>\n",
       "      <th>3262</th>\n",
       "      <td>10875</td>\n",
       "    </tr>\n",
       "  </tbody>\n",
       "</table>\n",
       "<p>3263 rows × 1 columns</p>\n",
       "</div>"
      ],
      "text/plain": [
       "         id\n",
       "0         0\n",
       "1         2\n",
       "2         3\n",
       "3         9\n",
       "4        11\n",
       "...     ...\n",
       "3258  10861\n",
       "3259  10865\n",
       "3260  10868\n",
       "3261  10874\n",
       "3262  10875\n",
       "\n",
       "[3263 rows x 1 columns]"
      ]
     },
     "execution_count": 67,
     "metadata": {},
     "output_type": "execute_result"
    }
   ],
   "source": [
    "submission = submission.drop(columns=['target'])\n",
    "submission "
   ]
  },
  {
   "cell_type": "code",
   "execution_count": 68,
   "id": "777d0893-5c5d-42f7-adff-7a0331b00bb0",
   "metadata": {},
   "outputs": [],
   "source": [
    "submission=pd.concat([submission , df], axis=1)"
   ]
  },
  {
   "cell_type": "code",
   "execution_count": 69,
   "id": "7c2a38a7-dc9f-4595-9c37-5aa6d4a6a8ff",
   "metadata": {},
   "outputs": [
    {
     "data": {
      "text/html": [
       "<div>\n",
       "<style scoped>\n",
       "    .dataframe tbody tr th:only-of-type {\n",
       "        vertical-align: middle;\n",
       "    }\n",
       "\n",
       "    .dataframe tbody tr th {\n",
       "        vertical-align: top;\n",
       "    }\n",
       "\n",
       "    .dataframe thead th {\n",
       "        text-align: right;\n",
       "    }\n",
       "</style>\n",
       "<table border=\"1\" class=\"dataframe\">\n",
       "  <thead>\n",
       "    <tr style=\"text-align: right;\">\n",
       "      <th></th>\n",
       "      <th>id</th>\n",
       "      <th>target</th>\n",
       "    </tr>\n",
       "  </thead>\n",
       "  <tbody>\n",
       "    <tr>\n",
       "      <th>0</th>\n",
       "      <td>0</td>\n",
       "      <td>1</td>\n",
       "    </tr>\n",
       "    <tr>\n",
       "      <th>1</th>\n",
       "      <td>2</td>\n",
       "      <td>0</td>\n",
       "    </tr>\n",
       "    <tr>\n",
       "      <th>2</th>\n",
       "      <td>3</td>\n",
       "      <td>1</td>\n",
       "    </tr>\n",
       "    <tr>\n",
       "      <th>3</th>\n",
       "      <td>9</td>\n",
       "      <td>1</td>\n",
       "    </tr>\n",
       "    <tr>\n",
       "      <th>4</th>\n",
       "      <td>11</td>\n",
       "      <td>1</td>\n",
       "    </tr>\n",
       "    <tr>\n",
       "      <th>...</th>\n",
       "      <td>...</td>\n",
       "      <td>...</td>\n",
       "    </tr>\n",
       "    <tr>\n",
       "      <th>3258</th>\n",
       "      <td>10861</td>\n",
       "      <td>0</td>\n",
       "    </tr>\n",
       "    <tr>\n",
       "      <th>3259</th>\n",
       "      <td>10865</td>\n",
       "      <td>1</td>\n",
       "    </tr>\n",
       "    <tr>\n",
       "      <th>3260</th>\n",
       "      <td>10868</td>\n",
       "      <td>1</td>\n",
       "    </tr>\n",
       "    <tr>\n",
       "      <th>3261</th>\n",
       "      <td>10874</td>\n",
       "      <td>0</td>\n",
       "    </tr>\n",
       "    <tr>\n",
       "      <th>3262</th>\n",
       "      <td>10875</td>\n",
       "      <td>1</td>\n",
       "    </tr>\n",
       "  </tbody>\n",
       "</table>\n",
       "<p>3263 rows × 2 columns</p>\n",
       "</div>"
      ],
      "text/plain": [
       "         id  target\n",
       "0         0       1\n",
       "1         2       0\n",
       "2         3       1\n",
       "3         9       1\n",
       "4        11       1\n",
       "...     ...     ...\n",
       "3258  10861       0\n",
       "3259  10865       1\n",
       "3260  10868       1\n",
       "3261  10874       0\n",
       "3262  10875       1\n",
       "\n",
       "[3263 rows x 2 columns]"
      ]
     },
     "execution_count": 69,
     "metadata": {},
     "output_type": "execute_result"
    }
   ],
   "source": [
    "submission"
   ]
  },
  {
   "cell_type": "code",
   "execution_count": 73,
   "id": "9e560efd-2052-4e22-b57e-3cd8f255f4a1",
   "metadata": {},
   "outputs": [],
   "source": [
    "submission.to_csv('submission1.csv', index=False)"
   ]
  }
 ],
 "metadata": {
  "kernelspec": {
   "display_name": "Python 3 (ipykernel)",
   "language": "python",
   "name": "python3"
  },
  "language_info": {
   "codemirror_mode": {
    "name": "ipython",
    "version": 3
   },
   "file_extension": ".py",
   "mimetype": "text/x-python",
   "name": "python",
   "nbconvert_exporter": "python",
   "pygments_lexer": "ipython3",
   "version": "3.10.14"
  }
 },
 "nbformat": 4,
 "nbformat_minor": 5
}
